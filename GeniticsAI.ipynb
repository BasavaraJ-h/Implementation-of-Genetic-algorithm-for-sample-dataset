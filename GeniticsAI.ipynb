{
 "cells": [
  {
   "cell_type": "code",
   "execution_count": 1,
   "metadata": {},
   "outputs": [],
   "source": [
    "#import all modules needed\n",
    "import matplotlib.pyplot as plt\n",
    "import math\n",
    "import random"
   ]
  },
  {
   "cell_type": "code",
   "execution_count": 2,
   "metadata": {},
   "outputs": [],
   "source": [
    "#initialization function\n",
    "def initialize():\n",
    "    # initialize to 0 \n",
    "    population = [[0,0]]\n",
    "    for i in range(1000):\n",
    "        population.append(mutate(population[0]))\n",
    "    return population"
   ]
  },
  {
   "cell_type": "code",
   "execution_count": 3,
   "metadata": {},
   "outputs": [],
   "source": [
    "#mutation function\n",
    "def mutate(indival):\n",
    "    newmutate = []\n",
    "    for value in indival:\n",
    "        newmutate.append(value + random.normalvariate(0, value + .1))  \n",
    "    return newmutate\n"
   ]
  },
  {
   "cell_type": "code",
   "execution_count": 4,
   "metadata": {},
   "outputs": [],
   "source": [
    "#function with given formula used to check the fitness\n",
    "def fitness_function(x, y):\n",
    "    #function  \n",
    "    value = ( ((1 -x)**2)*((math.e)**((-x**2) - (y+1)**2))) -  \\\n",
    "            ( ( x - x **3 - y**3 )*((math.e) ** ((-x**2) - y**2)))   \n",
    "    return value\n"
   ]
  },
  {
   "cell_type": "code",
   "execution_count": 5,
   "metadata": {},
   "outputs": [],
   "source": [
    "#evaluvate the generation\n",
    "def evaluate_gene(population):\n",
    "    scores = []\n",
    "    total = 0\n",
    "    for indiv in population:\n",
    "        r = fitness_function(indiv[0], indiv[1])\n",
    "        scores.append(r)\n",
    "        total += r\n",
    "    #average of all the scores\n",
    "    avg = total / len(scores)\n",
    "    return scores, avg\n"
   ]
  },
  {
   "cell_type": "code",
   "execution_count": 6,
   "metadata": {},
   "outputs": [],
   "source": [
    "#function to find  best in the population\n",
    "def bestfun(population):\n",
    "    best = None\n",
    "    val = None\n",
    "    for indiv in population:\n",
    "        value = fitness_function(indiv[0], indiv[1])\n",
    "        try:\n",
    "            if value > val:\n",
    "                best = indiv\n",
    "                val = value\n",
    "        except:\n",
    "                best = indiv\n",
    "                val = value\n",
    "    return best, val\n"
   ]
  },
  {
   "cell_type": "code",
   "execution_count": 7,
   "metadata": {},
   "outputs": [
    {
     "name": "stdout",
     "output_type": "stream",
     "text": [
      "Runing 100 iteration \n",
      "\n",
      "Calculating Best\n",
      "\n",
      "best values \n",
      " X =  -0.6272187996904799 \n",
      " Y =  -0.8301293549545197 \n",
      " Value =  1.6709 \n",
      "\n"
     ]
    },
    {
     "data": {
      "image/png": "[encoded data removed]",
      "text/plain": [
       "<Figure size 432x288 with 1 Axes>"
      ]
     },
     "metadata": {
      "needs_background": "light"
     },
     "output_type": "display_data"
    }
   ],
   "source": [
    "\n",
    "#Startexecution function\n",
    "\n",
    "def Startexecution():\n",
    "    population = initialize()\n",
    "    avrscore = [] \n",
    "    avrsbest = []\n",
    "    scoresnrms = []\n",
    "    best_averagesnorm = [] \n",
    "    print(\"Runing 100 iteration \\n\")\n",
    "     # arragnge the plot \n",
    "    axis_font = {'fontname':'Arial', 'size':'13','color':'blue'}\n",
    "    title_font = {'fontname':'Arial', 'size':'16', 'color':'black', 'weight':'normal','verticalalignment':'bottom'}\n",
    "    plt.title(\"Fitness Value( Avrg and best) Graph\", **title_font)\n",
    "    plt.xlabel('Number of iteration',**axis_font)\n",
    "    plt.ylabel('fitness ( scaled 0 to 1)',**axis_font)\n",
    "    plt.text(75,0.1,'  Red  - Avrg',**axis_font)\n",
    "    plt.text(75,0.2,'Green - Best',**axis_font)\n",
    "    \n",
    "    for iteration in range(100):\n",
    "        scores, avg = evaluate_gene(population)\n",
    "        deleted = 0\n",
    "        new_population = []\n",
    "        for i in range(len(population)):\n",
    "            if scores[i] < avg:\n",
    "                deleted += 1\n",
    "            else: \n",
    "                new_population.append(population[i])\n",
    "        for i in range(deleted):\n",
    "            new_population.append(mutate(new_population[i % len(new_population)]))\n",
    "        population = new_population\n",
    "        best, Bval = bestfun(population)\n",
    "        avrscore.append(avg)\n",
    "        avrsbest.append(Bval)\n",
    "    #scaling the values\n",
    "    for value in avrscore:\n",
    "        scoresnrms.append ( ( value - min(avrscore) ) / (max(avrscore) - min(avrscore)))     \n",
    "    for avrval in avrsbest:\n",
    "        best_averagesnorm.append((avrval - min(avrsbest)) / (max(avrsbest) - min(avrsbest)))\n",
    "    \n",
    "    print(\"Calculating Best\\n\")\n",
    "    best, val = bestfun(population)\n",
    "    print(\"best values \\n X = \", best[0], \"\\n\" ,\"Y = \", best[1], \"\\n\", \"Value = \", round(val, 4),\"\\n\")\n",
    "    #Set Data to the plot\n",
    "    plt.plot(scoresnrms ,  color='red',linestyle = 'dotted')\n",
    "    plt.plot(best_averagesnorm , color = 'green',linestyle = 'dashdot')  \n",
    "    \n",
    "#call the main function    \n",
    "Startexecution() "
   ]
  },
  {
   "cell_type": "code",
   "execution_count": null,
   "metadata": {},
   "outputs": [],
   "source": []
  }
 ],
 "metadata": {
  "kernelspec": {
   "display_name": "Python 3",
   "language": "python",
   "name": "python3"
  },
  "language_info": {
   "codemirror_mode": {
    "name": "ipython",
    "version": 3
   },
   "file_extension": ".py",
   "mimetype": "text/x-python",
   "name": "python",
   "nbconvert_exporter": "python",
   "pygments_lexer": "ipython3",
   "version": "3.7.3"
  }
 },
 "nbformat": 4,
 "nbformat_minor": 2
}
